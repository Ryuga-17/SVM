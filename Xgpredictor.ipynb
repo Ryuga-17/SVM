{
  "nbformat": 4,
  "nbformat_minor": 0,
  "metadata": {
    "colab": {
      "provenance": [],
      "authorship_tag": "ABX9TyPdehoO99aZMuElFO3FUZy4",
      "include_colab_link": true
    },
    "kernelspec": {
      "name": "python3",
      "display_name": "Python 3"
    },
    "language_info": {
      "name": "python"
    }
  },
  "cells": [
    {
      "cell_type": "markdown",
      "metadata": {
        "id": "view-in-github",
        "colab_type": "text"
      },
      "source": [
        "<a href=\"https://colab.research.google.com/github/Ryuga-17/SVM/blob/main/Xgpredictor.ipynb\" target=\"_parent\"><img src=\"https://colab.research.google.com/assets/colab-badge.svg\" alt=\"Open In Colab\"/></a>"
      ]
    },
    {
      "cell_type": "code",
      "source": [
        "import pickle\n",
        "import sklearn\n",
        "\n",
        "with open (\"/content/xgbpipe.pkl\",'rb') as f:\n",
        "    clf=pickle.load(f)\n"
      ],
      "metadata": {
        "id": "RcugmZ-eQcRa"
      },
      "execution_count": 1,
      "outputs": []
    },
    {
      "cell_type": "code",
      "execution_count": 4,
      "metadata": {
        "colab": {
          "base_uri": "https://localhost:8080/"
        },
        "id": "AdW2ta7rMNQ3",
        "outputId": "fdb16a2c-0d93-48a2-d966-409ce8e941a6"
      },
      "outputs": [
        {
          "output_type": "stream",
          "name": "stdout",
          "text": [
            "Make\n",
            "Acura\n",
            "Type\n",
            "Sedan\n",
            "Origin\n",
            "Asia\n",
            "Drivetrain\n",
            "Front\n",
            "Enginesize\n",
            "2.0\n",
            "Cylinders\n",
            "4.0\n",
            "Horsepower\n",
            "200\n",
            "MPG_City\n",
            "24\n",
            "MPG_Highway\n",
            "31\n",
            "Weight\n",
            "2778\n",
            "Wheelbase\n",
            "101\n",
            "Length\n",
            "172\n",
            "[23815.78]\n"
          ]
        },
        {
          "output_type": "stream",
          "name": "stderr",
          "text": [
            "/usr/local/lib/python3.10/dist-packages/sklearn/base.py:493: UserWarning: X does not have valid feature names, but MinMaxScaler was fitted with feature names\n",
            "  warnings.warn(\n",
            "/usr/local/lib/python3.10/dist-packages/sklearn/base.py:493: UserWarning: X does not have valid feature names, but OneHotEncoder was fitted with feature names\n",
            "  warnings.warn(\n"
          ]
        }
      ],
      "source": [
        "\n",
        "\n",
        "\n",
        "a=str(input(\"Make\\n\"))\n",
        "b=str(input(\"Type\\n\"))\n",
        "c=str(input(\"Origin\\n\"))\n",
        "d=str(input(\"Drivetrain\\n\"))\n",
        "e=float(input(\"Enginesize\\n\"))\n",
        "f=float(input(\"Cylinders\\n\"))\n",
        "g=float(input(\"Horsepower\\n\"))\n",
        "h=float(input(\"MPG_City\\n\"))\n",
        "i=float(input(\"MPG_Highway\\n\"))\n",
        "j=float(input(\"Weight\\n\"))\n",
        "k=float(input(\"Wheelbase\\n\"))\n",
        "l=float(input(\"Length\\n\"))\n",
        "\n",
        "inp=[[a,b,c,d,e,f,g,h,i,j,k,l]]\n",
        "pred=clf.predict(inp)\n",
        "print(pred)\n",
        "\n",
        "\n"
      ]
    },
    {
      "cell_type": "code",
      "source": [],
      "metadata": {
        "id": "RuAicYfJRkYQ"
      },
      "execution_count": null,
      "outputs": []
    }
  ]
}